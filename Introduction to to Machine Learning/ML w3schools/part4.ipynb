{
 "cells": [
  {
   "cell_type": "code",
   "execution_count": 1,
   "metadata": {},
   "outputs": [
    {
     "name": "stdout",
     "output_type": "stream",
     "text": [
      "10th Percentile: 1.9\n",
      "50th Percentile (Median): 5.5\n",
      "90th Percentile: 9.1\n"
     ]
    }
   ],
   "source": [
    "import numpy as np\n",
    "\n",
    "# داده‌ها\n",
    "data = [1, 2, 3, 4, 5, 6, 7, 8, 9, 10]\n",
    "\n",
    "# محاسبه پرسنتایل‌ها\n",
    "percentile_10 = np.percentile(data, 10)\n",
    "percentile_50 = np.percentile(data, 50)\n",
    "percentile_90 = np.percentile(data, 90)\n",
    "\n",
    "print(\"10th Percentile:\", percentile_10)\n",
    "print(\"50th Percentile (Median):\", percentile_50)\n",
    "print(\"90th Percentile:\", percentile_90)\n"
   ]
  }
 ],
 "metadata": {
  "kernelspec": {
   "display_name": "Python 3",
   "language": "python",
   "name": "python3"
  },
  "language_info": {
   "codemirror_mode": {
    "name": "ipython",
    "version": 3
   },
   "file_extension": ".py",
   "mimetype": "text/x-python",
   "name": "python",
   "nbconvert_exporter": "python",
   "pygments_lexer": "ipython3",
   "version": "3.11.4"
  }
 },
 "nbformat": 4,
 "nbformat_minor": 2
}
