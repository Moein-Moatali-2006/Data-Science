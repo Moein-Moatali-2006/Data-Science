{
 "cells": [
  {
   "cell_type": "code",
   "execution_count": 8,
   "metadata": {},
   "outputs": [
    {
     "name": "stdout",
     "output_type": "stream",
     "text": [
      "Mean (میانگین): 4.2\n",
      "Median (میانه): 4.5\n",
      "Mode (): 6 : 3\n"
     ]
    }
   ],
   "source": [
    "import numpy as np\n",
    "from scipy import stats\n",
    "\n",
    "# داده‌ها\n",
    "data = [1, 2, 2, 3, 4, 5, 6, 6, 6, 7]\n",
    "\n",
    "# محاسبه میانگین\n",
    "mean = np.mean(data)\n",
    "print(\"Mean (میانگین):\", mean)\n",
    "\n",
    "# محاسبه میانه\n",
    "median = np.median(data)\n",
    "print(\"Median (میانه):\", median)\n",
    "\n",
    "# محاسبه نما (با نسخه‌های جدید scipy)\n",
    "mode_result = stats.mode(data, keepdims=True)  # گزینه keepdims برای سازگاری\n",
    "print(\"Mode ():\", mode_result.mode[0], \":\", mode_result.count[0])\n"
   ]
  }
 ],
 "metadata": {
  "kernelspec": {
   "display_name": "Python 3",
   "language": "python",
   "name": "python3"
  },
  "language_info": {
   "codemirror_mode": {
    "name": "ipython",
    "version": 3
   },
   "file_extension": ".py",
   "mimetype": "text/x-python",
   "name": "python",
   "nbconvert_exporter": "python",
   "pygments_lexer": "ipython3",
   "version": "3.11.4"
  }
 },
 "nbformat": 4,
 "nbformat_minor": 2
}
