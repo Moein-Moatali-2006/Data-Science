{
 "cells": [
  {
   "cell_type": "code",
   "execution_count": 5,
   "metadata": {},
   "outputs": [
    {
     "name": "stdout",
     "output_type": "stream",
     "text": [
      "پیش‌بینی برای X=6: 11.5\n"
     ]
    }
   ],
   "source": [
    "# نصب کتابخانه‌ها (فقط یکبار اجرا کنید)\n",
    "# !pip install numpy pandas matplotlib scikit-learn\n",
    "\n",
    "import numpy as np\n",
    "from sklearn.linear_model import LinearRegression\n",
    "\n",
    "# داده‌ها\n",
    "X = np.array([[1], [2], [3], [4], [5]])  # ویژگی‌ها\n",
    "y = np.array([1.5, 3.5, 5.5, 7.5, 9.5])  # خروجی‌ها\n",
    "\n",
    "# مدل رگرسیون خطی\n",
    "model = LinearRegression()\n",
    "model.fit(X, y)  # آموزش مدل\n",
    "\n",
    "# پیش‌بینی\n",
    "X_new = np.array([[6]])\n",
    "prediction = model.predict(X_new)\n",
    "print(\"پیش‌بینی برای X=6:\", prediction[0])\n"
   ]
  },
  {
   "cell_type": "code",
   "execution_count": 9,
   "metadata": {},
   "outputs": [
    {
     "name": "stdout",
     "output_type": "stream",
     "text": [
      "[31.6]\n"
     ]
    }
   ],
   "source": [
    "import numpy as np\n",
    "from sklearn.linear_model import LinearRegression\n",
    "\n",
    "x=np.array([[5],[10],[15],[20],[25]])\n",
    "y=np.array([70,50,45,20,5])\n",
    "\n",
    "model = LinearRegression()\n",
    "model.fit(x,y)\n",
    "\n",
    "x_new = np.array([[17]])\n",
    "result = model.predict(x_new)\n",
    "print(result)"
   ]
  }
 ],
 "metadata": {
  "kernelspec": {
   "display_name": "Python 3",
   "language": "python",
   "name": "python3"
  },
  "language_info": {
   "codemirror_mode": {
    "name": "ipython",
    "version": 3
   },
   "file_extension": ".py",
   "mimetype": "text/x-python",
   "name": "python",
   "nbconvert_exporter": "python",
   "pygments_lexer": "ipython3",
   "version": "3.11.4"
  }
 },
 "nbformat": 4,
 "nbformat_minor": 2
}
